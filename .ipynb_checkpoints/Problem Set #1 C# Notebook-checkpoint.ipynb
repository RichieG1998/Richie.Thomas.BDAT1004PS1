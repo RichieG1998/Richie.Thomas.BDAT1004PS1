{
 "cells": [
  {
   "cell_type": "code",
   "execution_count": null,
   "id": "75d6f918",
   "metadata": {},
   "outputs": [],
   "source": [
    "#Question 1 What data type is each of the following?\n",
    "5 Integer\n",
    "5.0 Double\n",
    "5 > 1 Boolean\n",
    "'5'  String\n",
    "5 * 2  Integer\n",
    "'5' * 2 String\n",
    " '5' + '2' String\n",
    " 5 / 2 Integer\n",
    "5 % 2 Integer\n",
    " {5, 2, 1} int[]\n",
    " 5 == 3 Boolean\n",
    "Pi (the number) Double\n"
   ]
  }
 ],
 "metadata": {
  "kernelspec": {
   "display_name": ".NET (C#)",
   "language": "C#",
   "name": ".net-csharp"
  },
  "language_info": {
   "file_extension": ".cs",
   "mimetype": "text/x-csharp",
   "name": "C#",
   "pygments_lexer": "csharp",
   "version": "12.0"
  }
 },
 "nbformat": 4,
 "nbformat_minor": 5
}
