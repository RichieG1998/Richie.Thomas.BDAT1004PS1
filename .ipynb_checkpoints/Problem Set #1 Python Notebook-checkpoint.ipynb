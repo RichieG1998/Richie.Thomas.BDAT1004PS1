{
 "cells": [
  {
   "cell_type": "code",
   "execution_count": 3,
   "id": "fced9031",
   "metadata": {},
   "outputs": [
    {
     "name": "stdout",
     "output_type": "stream",
     "text": [
      "Enter a word: Hello\n",
      "Pig Latin form: ellohay\n"
     ]
    }
   ],
   "source": [
    "#Question 6 Python\n",
    "def pig(word):\n",
    "    word = word.lower()\n",
    "    if word[0] in 'aeiou':\n",
    "        return word + 'way'\n",
    "    else:\n",
    "        word1=word[1:len(word)]+word[0]+\"ay\"\n",
    "           \n",
    "        return word1\n",
    "input_word = input(\"Enter a word: \")\n",
    "result = pig(input_word)\n",
    "print(\"Pig Latin form:\", result)\n"
   ]
  },
  {
   "cell_type": "code",
   "execution_count": 14,
   "id": "9c4e39f8",
   "metadata": {},
   "outputs": [
    {
     "name": "stdout",
     "output_type": "stream",
     "text": [
      "There are  15 Patients of Blood Type A\n",
      "There are  1 Patients of Blood Type B\n",
      "There are  13 Patients of Blood Type AB\n",
      "There are  15 Patients of Blood Type O\n"
     ]
    }
   ],
   "source": [
    "infile = open('bloodtype1.txt')\n",
    "content=infile.read()\n",
    "infile.close()\n",
    "wordList = content.split(' ')\n",
    "A_count=wordList.count('A')\n",
    "B_count=wordList.count('B')\n",
    "AB_count=wordList.count('AB')\n",
    "O_count=wordList.count('O')\n",
    "print('There are ',A_count,'Patients of Blood Type A')\n",
    "print('There are ',B_count,'Patients of Blood Type B')\n",
    "print('There are ',AB_count,'Patients of Blood Type AB')\n",
    "print('There are ',O_count,'Patients of Blood Type O')\n",
    "    \n",
    "        "
   ]
  },
  {
   "cell_type": "code",
   "execution_count": null,
   "id": "417b6771",
   "metadata": {},
   "outputs": [],
   "source": []
  }
 ],
 "metadata": {
  "kernelspec": {
   "display_name": "Python 3 (ipykernel)",
   "language": "python",
   "name": "python3"
  },
  "language_info": {
   "codemirror_mode": {
    "name": "ipython",
    "version": 3
   },
   "file_extension": ".py",
   "mimetype": "text/x-python",
   "name": "python",
   "nbconvert_exporter": "python",
   "pygments_lexer": "ipython3",
   "version": "3.11.7"
  }
 },
 "nbformat": 4,
 "nbformat_minor": 5
}
