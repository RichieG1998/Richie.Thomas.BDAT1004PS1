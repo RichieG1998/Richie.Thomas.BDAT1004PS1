{
 "cells": [
  {
   "cell_type": "code",
   "execution_count": 3,
   "id": "fced9031",
   "metadata": {},
   "outputs": [
    {
     "name": "stdout",
     "output_type": "stream",
     "text": [
      "Enter a word: Hello\n",
      "Pig Latin form: ellohay\n"
     ]
    }
   ],
   "source": [
    "#Question 6 Python\n",
    "def pig(word):\n",
    "    word = word.lower()\n",
    "    if word[0] in 'aeiou':\n",
    "        return word + 'way'\n",
    "    else:\n",
    "        word1=word[1:len(word)]+word[0]+\"ay\"\n",
    "           \n",
    "        return word1\n",
    "input_word = input(\"Enter a word: \")\n",
    "result = pig(input_word)\n",
    "print(\"Pig Latin form:\", result)\n"
   ]
  },
  {
   "cell_type": "code",
   "execution_count": 14,
   "id": "a1638501",
   "metadata": {},
   "outputs": [
    {
     "name": "stdout",
     "output_type": "stream",
     "text": [
      "There are  15 Patients of Blood Type A\n",
      "There are  1 Patients of Blood Type B\n",
      "There are  13 Patients of Blood Type AB\n",
      "There are  15 Patients of Blood Type O\n"
     ]
    }
   ],
   "source": [
    "#Question 7 Python\n",
    "infile = open('bloodtype1.txt')\n",
    "content=infile.read()\n",
    "infile.close()\n",
    "wordList = content.split(' ')\n",
    "A_count=wordList.count('A')\n",
    "B_count=wordList.count('B')\n",
    "AB_count=wordList.count('AB')\n",
    "O_count=wordList.count('O')\n",
    "print('There are ',A_count,'Patients of Blood Type A')\n",
    "print('There are ',B_count,'Patients of Blood Type B')\n",
    "print('There are ',AB_count,'Patients of Blood Type AB')\n",
    "print('There are ',O_count,'Patients of Blood Type O')\n",
    "    \n",
    "        "
   ]
  },
  {
   "cell_type": "code",
   "execution_count": 46,
   "id": "19c64367",
   "metadata": {},
   "outputs": [
    {
     "name": "stdout",
     "output_type": "stream",
     "text": [
      "Enter currency codeAUD\n",
      "Enter amount1.2\n",
      "1.24141884\n"
     ]
    }
   ],
   "source": [
    "#Question 8 Python\n",
    "\n",
    "\n",
    "def curconv(currency_code, amount):\n",
    "    infile = open('currencies.txt')\n",
    "    content=infile.read()\n",
    "    infile.close()\n",
    "    dict = {}\n",
    "    wordList = content.split()\n",
    "    for w in wordList:\n",
    "            if (w.isalpha() and len(w)==3):\n",
    "                key=w\n",
    "            elif(w.isalpha() and len(w)>3):\n",
    "                x=0\n",
    "            else:\n",
    "                value=w\n",
    "                dict[key]=value\n",
    "    amt=float(dict[currency_code])*amount\n",
    "    return amt\n",
    "currency_code=input('Enter currency code')\n",
    "amount=float(input('Enter amount'))\n",
    "USD=curconv(currency_code,amount)\n",
    "print(USD)\n",
    "            \n",
    "        "
   ]
  },
  {
   "cell_type": "code",
   "execution_count": null,
   "id": "7a8df12f",
   "metadata": {},
   "outputs": [],
   "source": []
  },
  {
   "cell_type": "code",
   "execution_count": null,
   "id": "202ba4af",
   "metadata": {},
   "outputs": [],
   "source": []
  }
 ],
 "metadata": {
  "kernelspec": {
   "display_name": "Python 3 (ipykernel)",
   "language": "python",
   "name": "python3"
  },
  "language_info": {
   "codemirror_mode": {
    "name": "ipython",
    "version": 3
   },
   "file_extension": ".py",
   "mimetype": "text/x-python",
   "name": "python",
   "nbconvert_exporter": "python",
   "pygments_lexer": "ipython3",
   "version": "3.11.7"
  }
 },
 "nbformat": 4,
 "nbformat_minor": 5
}
